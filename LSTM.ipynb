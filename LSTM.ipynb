{
  "cells": [
    {
      "cell_type": "markdown",
      "metadata": {},
      "source": [
        "### LSTM\n",
        "1. skip-gram: LSTM testing accuracy 可達到 93 %\n",
        "參考 https://keras-cn.readthedocs.io/en/latest/legacy/blog/word_embedding/"
      ]
    },
    {
      "cell_type": "code",
      "execution_count": 47,
      "metadata": {
        "id": "O5N_SBN5D5Bv"
      },
      "outputs": [],
      "source": [
        "# basic libraries\n",
        "import pandas as pd\n",
        "import tensorflow as tf\n",
        "import os\n",
        "import re\n",
        "import numpy as np\n",
        "from string import punctuation\n",
        "from zipfile import ZipFile\n",
        "import matplotlib.pyplot as plt\n",
        "\n",
        "# preprocessing\n",
        "from sklearn.preprocessing import LabelEncoder\n",
        "from sklearn.model_selection import train_test_split\n",
        "from nltk.tokenize import sent_tokenize, word_tokenize\n",
        "from nltk.tokenize.toktok import ToktokTokenizer\n",
        "# generate word embedding\n",
        "import gensim\n",
        "from gensim.models import Word2Vec\n",
        "from keras.layers import Embedding\n",
        "\n",
        "# keras lstm model\n",
        "from tensorflow.keras.models import Model\n",
        "from tensorflow.keras.models import Sequential\n",
        "from tensorflow.keras.layers import Dense, LSTM, Activation, Dense, Dropout, Input, Embedding, SpatialDropout1D\n",
        "from tensorflow.keras.optimizers import RMSprop\n",
        "from tensorflow.keras.preprocessing.text import Tokenizer\n",
        "from tensorflow.keras.preprocessing import sequence\n",
        "from tensorflow.keras.callbacks import EarlyStopping\n",
        "from tensorflow.keras.preprocessing.sequence import pad_sequences\n",
        "from sklearn.feature_extraction.text import CountVectorizer, TfidfVectorizer\n",
        "\n",
        "# evaluation\n",
        "from sklearn.metrics import accuracy_score, classification_report, confusion_matrix\n",
        "import seaborn as sns"
      ]
    },
    {
      "cell_type": "code",
      "execution_count": 49,
      "metadata": {
        "id": "yBGhCvcyD99m"
      },
      "outputs": [],
      "source": [
        "train = pd.read_csv('train.csv')\n",
        "test = pd.read_csv('test.csv')\n"
      ]
    },
    {
      "cell_type": "code",
      "execution_count": 50,
      "metadata": {
        "colab": {
          "base_uri": "https://localhost:8080/"
        },
        "id": "urAXxktaVhTd",
        "outputId": "50d627b5-5c33-4b1e-dbb7-073c13115fea"
      },
      "outputs": [
        {
          "data": {
            "text/plain": [
              "(1852057, 2094985)"
            ]
          },
          "execution_count": 50,
          "metadata": {},
          "output_type": "execute_result"
        }
      ],
      "source": [
        "tokenizer = ToktokTokenizer()\n",
        "corpus = [tokenizer.tokenize(document) for document in train['title']]\n",
        "model = gensim.models.Word2Vec(corpus, min_count = 3, window = 5, sg = 1) # sg -> skip gram = true\n",
        "model.train(corpus, total_examples=len(corpus), epochs = 5)"
      ]
    },
    {
      "cell_type": "code",
      "execution_count": 51,
      "metadata": {
        "id": "_VTppjR_ZEfT"
      },
      "outputs": [],
      "source": [
        "vector = model.wv"
      ]
    },
    {
      "cell_type": "code",
      "execution_count": 52,
      "metadata": {
        "id": "Z1EkQwZKZLHO"
      },
      "outputs": [],
      "source": [
        "from keras.preprocessing.text import Tokenizer\n",
        "from keras.preprocessing.sequence import pad_sequences\n",
        "\n",
        "tokenizer = Tokenizer(num_words = 6000)\n",
        "tokenizer.fit_on_texts(train['text'])\n",
        "sequences = tokenizer.texts_to_sequences(train['text'])\n"
      ]
    },
    {
      "cell_type": "code",
      "execution_count": 53,
      "metadata": {
        "colab": {
          "base_uri": "https://localhost:8080/"
        },
        "id": "PH18w_VmZrc3",
        "outputId": "502c653e-50f9-4065-b337-66cfbed45c12"
      },
      "outputs": [
        {
          "name": "stdout",
          "output_type": "stream",
          "text": [
            "Found 152495 unique tokens.\n",
            "Shape of data tensor: (45316, 10000)\n",
            "Shape of label tensor: (45316,)\n"
          ]
        }
      ],
      "source": [
        "\n",
        "word_index = tokenizer.word_index\n",
        "print('Found %s unique tokens.' % len(word_index))\n",
        "\n",
        "data = pad_sequences(sequences, maxlen= 10000)\n",
        "\n",
        "labels = train['label']\n",
        "print('Shape of data tensor:', data.shape)\n",
        "print('Shape of label tensor:', labels.shape)\n"
      ]
    },
    {
      "cell_type": "code",
      "execution_count": 54,
      "metadata": {
        "id": "RJkST9pbZ_Y7"
      },
      "outputs": [],
      "source": [
        "\n",
        "# split the data into a training set and a validation set\n",
        "indices = np.arange(data.shape[0])\n",
        "np.random.shuffle(indices)\n",
        "data = data[indices]\n",
        "labels = labels[indices]\n",
        "nb_validation_samples = int(0.2 * data.shape[0])\n",
        "\n",
        "x_train = data[:-nb_validation_samples]\n",
        "y_train = labels[:-nb_validation_samples]\n",
        "x_val = data[-nb_validation_samples:]\n",
        "y_val = labels[-nb_validation_samples:]"
      ]
    },
    {
      "cell_type": "code",
      "execution_count": 55,
      "metadata": {
        "id": "ewT0nLZojGlg"
      },
      "outputs": [],
      "source": [
        "# test\n",
        "tokenizer_test = Tokenizer(num_words = 5000)\n",
        "tokenizer_test.fit_on_texts(test['text'])\n",
        "sequences_test = tokenizer.texts_to_sequences(test['text'])\n",
        "y_test = test['label']\n",
        "data_test = pad_sequences(sequences_test, maxlen= 10000)\n",
        "x_test = data_test\n"
      ]
    },
    {
      "cell_type": "code",
      "execution_count": 56,
      "metadata": {
        "id": "Cv9fCy26aKlJ"
      },
      "outputs": [],
      "source": [
        "EMBEDDING_DIM = 100\n",
        "embedding_matrix = np.zeros((len(word_index) + 1, EMBEDDING_DIM))\n",
        "for word, i in word_index.items():\n",
        "    try:\n",
        "      embedding_vector = vector[word]\n",
        "    except:\n",
        "      embedding_vector = None\n",
        "    if embedding_vector is not None:\n",
        "        # words not found in embedding index will be all-zeros.\n",
        "        embedding_matrix[i] = embedding_vector"
      ]
    },
    {
      "cell_type": "code",
      "execution_count": 57,
      "metadata": {
        "id": "2qYiFZOOa_TM"
      },
      "outputs": [],
      "source": [
        "from keras.layers import Embedding\n",
        "MAX_SEQUENCE_LENGTH = 10000\n",
        "embedding_layer = Embedding(len(word_index) + 1,\n",
        "                            EMBEDDING_DIM,\n",
        "                            weights=[embedding_matrix],\n",
        "                            input_length=MAX_SEQUENCE_LENGTH,\n",
        "                            trainable=False)\n",
        "# Embedding(max_words, embed_dim, input_length = max_len)"
      ]
    },
    {
      "cell_type": "code",
      "execution_count": 58,
      "metadata": {
        "colab": {
          "base_uri": "https://localhost:8080/"
        },
        "id": "6ShMWRxAbFBX",
        "outputId": "c827585f-5aa7-4d06-8a25-9ea33f5e1074"
      },
      "outputs": [
        {
          "name": "stdout",
          "output_type": "stream",
          "text": [
            "Model: \"sequential_5\"\n",
            "_________________________________________________________________\n",
            " Layer (type)                Output Shape              Param #   \n",
            "=================================================================\n",
            " embedding_4 (Embedding)     (None, 10000, 100)        15249600  \n",
            "                                                                 \n",
            " lstm_5 (LSTM)               (None, 64)                42240     \n",
            "                                                                 \n",
            " dense_10 (Dense)            (None, 256)               16640     \n",
            "                                                                 \n",
            " activation_7 (Activation)   (None, 256)               0         \n",
            "                                                                 \n",
            " dropout_5 (Dropout)         (None, 256)               0         \n",
            "                                                                 \n",
            " out_layer (Dense)           (None, 1)                 257       \n",
            "                                                                 \n",
            " activation_8 (Activation)   (None, 1)                 0         \n",
            "                                                                 \n",
            "=================================================================\n",
            "Total params: 15,308,737\n",
            "Trainable params: 59,137\n",
            "Non-trainable params: 15,249,600\n",
            "_________________________________________________________________\n",
            "None\n"
          ]
        }
      ],
      "source": [
        "sequence_input = Input(shape=(MAX_SEQUENCE_LENGTH,), dtype='int32')\n",
        "embedded_sequences = embedding_layer(sequence_input)\n",
        "\n",
        "lstm_out = 64\n",
        "batch_size = 32\n",
        "\n",
        "\n",
        "model = Sequential()\n",
        "model.add(Embedding(len(word_index) + 1,\n",
        "                            EMBEDDING_DIM,\n",
        "                            weights=[embedding_matrix],\n",
        "                            input_length=MAX_SEQUENCE_LENGTH,\n",
        "                            trainable=False))\n",
        "model.add(LSTM(lstm_out))\n",
        "model.add(Dense(256))\n",
        "model.add(Activation('relu'))\n",
        "model.add(Dropout(0.5))\n",
        "model.add(Dense(1, name='out_layer'))\n",
        "model.add(Activation('sigmoid'))\n",
        "\n",
        "model.compile(loss = 'binary_crossentropy', optimizer='adam',\\\n",
        "               metrics = ['accuracy'])\n",
        "print(model.summary())\n"
      ]
    },
    {
      "cell_type": "code",
      "execution_count": 59,
      "metadata": {
        "colab": {
          "base_uri": "https://localhost:8080/"
        },
        "id": "z6NbeAz2e2zu",
        "outputId": "9ca40b1a-3323-4978-8e77-df3b08e0fce1"
      },
      "outputs": [
        {
          "name": "stdout",
          "output_type": "stream",
          "text": [
            "Epoch 1/10\n",
            "284/284 [==============================] - 145s 497ms/step - loss: 0.3902 - accuracy: 0.8261 - val_loss: 0.4650 - val_accuracy: 0.7789\n",
            "Epoch 2/10\n",
            "284/284 [==============================] - 134s 472ms/step - loss: 0.3376 - accuracy: 0.8517 - val_loss: 0.3120 - val_accuracy: 0.8666\n",
            "Epoch 3/10\n",
            "284/284 [==============================] - 135s 477ms/step - loss: 0.2937 - accuracy: 0.8706 - val_loss: 0.2438 - val_accuracy: 0.8947\n",
            "Epoch 4/10\n",
            "284/284 [==============================] - 137s 484ms/step - loss: 0.3230 - accuracy: 0.8556 - val_loss: 0.2904 - val_accuracy: 0.8761\n",
            "Epoch 5/10\n",
            "284/284 [==============================] - 135s 476ms/step - loss: 0.2620 - accuracy: 0.8829 - val_loss: 0.2242 - val_accuracy: 0.8995\n",
            "Epoch 6/10\n",
            "284/284 [==============================] - 136s 478ms/step - loss: 0.2300 - accuracy: 0.9000 - val_loss: 0.2592 - val_accuracy: 0.8702\n",
            "Epoch 7/10\n",
            "284/284 [==============================] - 134s 471ms/step - loss: 0.2254 - accuracy: 0.8980 - val_loss: 0.2032 - val_accuracy: 0.9144\n",
            "Epoch 8/10\n",
            "284/284 [==============================] - 134s 470ms/step - loss: 0.1973 - accuracy: 0.9203 - val_loss: 0.1838 - val_accuracy: 0.9282\n",
            "Epoch 9/10\n",
            "284/284 [==============================] - 135s 474ms/step - loss: 0.1585 - accuracy: 0.9355 - val_loss: 0.1394 - val_accuracy: 0.9453\n",
            "Epoch 10/10\n",
            "284/284 [==============================] - 135s 475ms/step - loss: 0.1372 - accuracy: 0.9454 - val_loss: 0.1557 - val_accuracy: 0.9363\n"
          ]
        }
      ],
      "source": [
        "history = model.fit(x_train, y_train, validation_data=(x_val, y_val), epochs=10, batch_size=128)\n"
      ]
    },
    {
      "cell_type": "code",
      "execution_count": 60,
      "metadata": {
        "colab": {
          "base_uri": "https://localhost:8080/"
        },
        "id": "FFsYgb8piimY",
        "outputId": "9e768cb5-3e47-4a7c-e613-e14bfbd21caa"
      },
      "outputs": [
        {
          "name": "stdout",
          "output_type": "stream",
          "text": [
            "355/355 [==============================] - 46s 130ms/step - loss: 0.1689 - accuracy: 0.9309\n"
          ]
        },
        {
          "data": {
            "text/plain": [
              "[0.16893798112869263, 0.9308914542198181]"
            ]
          },
          "execution_count": 60,
          "metadata": {},
          "output_type": "execute_result"
        }
      ],
      "source": [
        "model.evaluate(x_test, y_test)"
      ]
    },
    {
      "cell_type": "code",
      "execution_count": 61,
      "metadata": {
        "colab": {
          "base_uri": "https://localhost:8080/",
          "height": 491
        },
        "id": "Zo-P7kV9kEV2",
        "outputId": "079fb784-db6a-4dea-c64a-b53c1ed01c6c"
      },
      "outputs": [
        {
          "data": {
            "text/plain": [
              "([<matplotlib.axis.XTick at 0x7f5e2de3dbd0>,\n",
              "  <matplotlib.axis.XTick at 0x7f5e2dd49e90>,\n",
              "  <matplotlib.axis.XTick at 0x7f5e2de21250>,\n",
              "  <matplotlib.axis.XTick at 0x7f5e2dd11550>,\n",
              "  <matplotlib.axis.XTick at 0x7f5e2dd164d0>,\n",
              "  <matplotlib.axis.XTick at 0x7f5e2dd19510>,\n",
              "  <matplotlib.axis.XTick at 0x7f5e2dd25190>,\n",
              "  <matplotlib.axis.XTick at 0x7f5e2dd83e10>,\n",
              "  <matplotlib.axis.XTick at 0x7f5e2dd2bf90>,\n",
              "  <matplotlib.axis.XTick at 0x7f5e2dd32dd0>],\n",
              " <a list of 10 Text major ticklabel objects>)"
            ]
          },
          "execution_count": 61,
          "metadata": {},
          "output_type": "execute_result"
        },
        {
          "data": {
            "image/png": "[encoded data removed]",
            "text/plain": [
              "<Figure size 432x288 with 1 Axes>"
            ]
          },
          "metadata": {
            "needs_background": "light"
          },
          "output_type": "display_data"
        }
      ],
      "source": [
        "plt.plot(history.history['accuracy'])\n",
        "plt.plot(history.history['val_accuracy'])\n",
        "plt.title('Model Accuracy')\n",
        "plt.legend(['Training', 'Validation'])\n",
        "plt.ylabel('Accuracy (%)')\n",
        "plt.xlabel('Epochs')\n",
        "plt.xticks(np.arange(10))"
      ]
    },
    {
      "cell_type": "code",
      "execution_count": 62,
      "metadata": {
        "colab": {
          "base_uri": "https://localhost:8080/",
          "height": 491
        },
        "id": "Ao843csmkLOd",
        "outputId": "4ed9bd85-b3cc-453a-c54e-71b4edab926f"
      },
      "outputs": [
        {
          "data": {
            "text/plain": [
              "([<matplotlib.axis.XTick at 0x7f5e2de33490>,\n",
              "  <matplotlib.axis.XTick at 0x7f5e2de33310>,\n",
              "  <matplotlib.axis.XTick at 0x7f5e2de29f10>,\n",
              "  <matplotlib.axis.XTick at 0x7f5e2dcafe10>,\n",
              "  <matplotlib.axis.XTick at 0x7f5e2dc9b910>,\n",
              "  <matplotlib.axis.XTick at 0x7f5e2dcac490>,\n",
              "  <matplotlib.axis.XTick at 0x7f5e2dcfd250>,\n",
              "  <matplotlib.axis.XTick at 0x7f5e2dc5a8d0>,\n",
              "  <matplotlib.axis.XTick at 0x7f5e2dc658d0>,\n",
              "  <matplotlib.axis.XTick at 0x7f5e2dc6f750>],\n",
              " <a list of 10 Text major ticklabel objects>)"
            ]
          },
          "execution_count": 62,
          "metadata": {},
          "output_type": "execute_result"
        },
        {
          "data": {
            "image/png": "[encoded data removed]",
            "text/plain": [
              "<Figure size 432x288 with 1 Axes>"
            ]
          },
          "metadata": {
            "needs_background": "light"
          },
          "output_type": "display_data"
        }
      ],
      "source": [
        "plt.plot(history.history['loss'])\n",
        "plt.plot(history.history['val_loss'])\n",
        "plt.title('Model Loss')\n",
        "plt.legend(['Training', 'Validation'])\n",
        "plt.ylabel('Loss')\n",
        "plt.xlabel('Epochs')\n",
        "plt.xticks(np.arange(10))"
      ]
    },
    {
      "cell_type": "markdown",
      "metadata": {
        "id": "LQ8d8WKKidmk"
      },
      "source": [
        "---"
      ]
    }
  ],
  "metadata": {
    "accelerator": "GPU",
    "colab": {
      "collapsed_sections": [],
      "name": "LSTM.ipynb",
      "provenance": []
    },
    "kernelspec": {
      "display_name": "Python 3",
      "name": "python3"
    },
    "language_info": {
      "name": "python"
    }
  },
  "nbformat": 4,
  "nbformat_minor": 0
}
